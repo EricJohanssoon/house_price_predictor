{
 "cells": [
  {
   "cell_type": "markdown",
   "metadata": {},
   "source": [
    "## TODOS\n",
    "\n",
    "- Extract links from multiple pages"
   ]
  },
  {
   "cell_type": "markdown",
   "metadata": {},
   "source": [
    "inspo -> https://towardsdatascience.com/web-scraping-apartment-listings-in-stockholm-3fcebacf8be6"
   ]
  },
  {
   "cell_type": "code",
   "execution_count": 100,
   "metadata": {},
   "outputs": [],
   "source": [
    "# imports\n",
    "from bs4 import BeautifulSoup\n",
    "import requests\n",
    "from tqdm.notebook import tqdm as tqdm\n",
    "import pandas as pd"
   ]
  },
  {
   "cell_type": "code",
   "execution_count": 103,
   "metadata": {},
   "outputs": [],
   "source": [
    "# Retrieving the hrefs of the links in the page\n",
    "url = 'https://www.booli.se/slutpriser/stockholm/1?page=1'\n",
    "html_page = requests.get(url)\n",
    "soup = BeautifulSoup(html_page.text, 'html.parser')\n",
    "select = soup.find('div', class_=\"_2m6km uC2y2 _3oDFL\")\n",
    "links = select.find_all('a')\n",
    "hrefs = [link.get('href') for link in links]"
   ]
  },
  {
   "cell_type": "code",
   "execution_count": 116,
   "metadata": {},
   "outputs": [
    {
     "name": "stdout",
     "output_type": "stream",
     "text": [
      "Collected 100 links from 3 pages\n"
     ]
    }
   ],
   "source": [
    "# Retrieving the hrefs of the links in the page\n",
    "nr_of_objects = 100\n",
    "\n",
    "for i in range(1,nr_of_objects//35+2):\n",
    "    url = 'https://www.booli.se/slutpriser/stockholm/1?page=' + str(i)\n",
    "    html_page = requests.get(url)\n",
    "    soup = BeautifulSoup(html_page.text, 'html.parser')\n",
    "    select = soup.find('div', class_=\"_2m6km uC2y2 _3oDFL\")\n",
    "    links = select.find_all('a')\n",
    "    hrefs.append([link.get('href') for link in links])\n",
    "\n",
    "print('Collected', nr_of_objects, 'links from', i, 'pages')"
   ]
  },
  {
   "cell_type": "code",
   "execution_count": 98,
   "metadata": {},
   "outputs": [
    {
     "data": {
      "text/plain": [
       "5987"
      ]
     },
     "execution_count": 98,
     "metadata": {},
     "output_type": "execute_result"
    }
   ],
   "source": [
    "# function to calculate number of pages that can be scraped\n",
    "def get_nr_of_pages(url):\n",
    "    html_page = requests.get(url)\n",
    "    soup = BeautifulSoup(html_page.text, 'html.parser')\n",
    "    select = soup.find('div', class_=\"EuKIv _36W0F\")\n",
    "    nr_of_objects = select.find('span').text.split(' ')[3]\n",
    "    nr_of_pages = int(nr_of_objects) // 35 + 1\n",
    "    return nr_of_pages\n",
    "\n",
    "get_nr_of_pages(url)"
   ]
  },
  {
   "cell_type": "code",
   "execution_count": 3,
   "metadata": {},
   "outputs": [
    {
     "data": {
      "text/plain": [
       "'/bostad/2202220'"
      ]
     },
     "execution_count": 3,
     "metadata": {},
     "output_type": "execute_result"
    }
   ],
   "source": [
    "hrefs[0]"
   ]
  },
  {
   "cell_type": "code",
   "execution_count": 4,
   "metadata": {},
   "outputs": [],
   "source": [
    "def get_apartment_info_old(url):\n",
    "    url = 'https://www.booli.se' + url\n",
    "    html_page = requests.get(url)\n",
    "    soup = BeautifulSoup(html_page.text, 'html.parser')\n",
    "    select = soup.find('div', class_=\"_2epd7 _12LuH\")\n",
    "    info = select.find('div', class_=\"_2epd7\")\n",
    "\n",
    "    price = info.contents[0].find('div', class_=\"_18w8g\").text\n",
    "    asking_price = info.contents[1].find('div', class_=\"_18w8g\").text\n",
    "    price_development = info.contents[2].find('div', class_=\"_18w8g\").text\n",
    "    date_sold = info.contents[3].find('div', class_=\"_18w8g\").text\n",
    "    price_per_sqm = info.contents[4].find('div', class_=\"_18w8g\").text\n",
    "    days_on_booli = info.contents[5].find('div', class_=\"_18w8g\").text\n",
    "\n",
    "    # Getting size of apartment from other div\n",
    "    select_2 = soup.find('div', class_=\"_2epd7 _3XAuT _10w08\")\n",
    "    info_2 = select_2.contents[0]\n",
    "    nr_of_rooms = info_2.find('h4').text.split(' ')[2]\n",
    "\n",
    "    return [price, asking_price, price_development, date_sold, price_per_sqm, days_on_booli, nr_of_rooms]"
   ]
  },
  {
   "cell_type": "code",
   "execution_count": 31,
   "metadata": {},
   "outputs": [],
   "source": [
    "url = 'https://www.booli.se' + '/bostad/337360'\n",
    "html_page = requests.get(url)\n",
    "soup = BeautifulSoup(html_page.text, 'html.parser')\n",
    "select = soup.find('div', class_=\"_2epd7 _12LuH\")\n",
    "infobox_1 = select.find('div', class_=\"_2epd7\")\n",
    "infobox_2 = soup.find('div', class_=\"_2IyrD _36W0F _16dH_\")\n",
    "\n",
    "\n",
    "\n",
    "# price = info.contents[0].find('div', class_=\"_18w8g\").text\n",
    "# asking_price = info.contents[1].find('div', class_=\"_18w8g\").text\n",
    "# price_development = info.contents[2].find('div', class_=\"_18w8g\").text\n",
    "# date_sold = info.contents[3].find('div', class_=\"_18w8g\").text\n",
    "# price_per_sqm = info.contents[4].find('div', class_=\"_18w8g\").text\n",
    "# days_on_booli = info.contents[5].find('div', class_=\"_18w8g\").text\n",
    "\n",
    "# # Getting size of apartment from other div\n",
    "# select_2 = soup.find('div', class_=\"_2epd7 _3XAuT _10w08\")\n",
    "# info_2 = select_2.contents[0]\n",
    "# nr_of_rooms = info_2.find('h4').text.split(' ')[2]"
   ]
  },
  {
   "cell_type": "code",
   "execution_count": 36,
   "metadata": {},
   "outputs": [
    {
     "name": "stdout",
     "output_type": "stream",
     "text": [
      "Bolmens­vägen 33\n",
      "2 600 000 kr\n",
      "Lägenhet, Årsta\n"
     ]
    }
   ],
   "source": [
    "# extracting name, price, size and area from left infobox.\n",
    "name = infobox_2.find('h1').text\n",
    "price = infobox_2.find('h2').text\n",
    "size_and_area = infobox_2.findAll('h4')\n",
    "size = size_and_area[0].text\n",
    "area = size_and_area[1].text\n",
    "\n",
    "# extracting asking price\n",
    "asking_price_div = infobox_1.select('div:contains(\"Utropspris\")')[0]\n",
    "asking_price = asking_price_div.find('div', class_=\"_18w8g\").text\n",
    "print(asking_price)"
   ]
  },
  {
   "cell_type": "code",
   "execution_count": 81,
   "metadata": {},
   "outputs": [],
   "source": [
    "def get_apartment_info(url_suffix):\n",
    "    url = 'https://www.booli.se' + url_suffix\n",
    "    html_page = requests.get(url)\n",
    "    soup = BeautifulSoup(html_page.text, 'html.parser')\n",
    "    select = soup.find('div', class_=\"_2epd7 _12LuH\")\n",
    "    infobox_1 = select.find('div', class_=\"_2epd7\")\n",
    "    infobox_2 = soup.find('div', class_=\"_2IyrD _36W0F _16dH_\")\n",
    "\n",
    "    # extracting name, price, size and area from left infobox.\n",
    "    name = infobox_2.find('h1').text\n",
    "    price = infobox_2.find('h2').text\n",
    "    size_and_area = infobox_2.findAll('h4')\n",
    "    size = size_and_area[0].text\n",
    "    area = size_and_area[1].text\n",
    "\n",
    "    # print(name)\n",
    "    # print(price)\n",
    "    # print(size)\n",
    "    # print(area)\n",
    "\n",
    "    # extracting asking price\n",
    "    try:\n",
    "        asking_price_div = infobox_1.select('div:contains(\"Utropspris\")')[0]\n",
    "        asking_price = asking_price_div.find('div', class_=\"_18w8g\").text\n",
    "        # print(asking_price, '\\n')\n",
    "    except:\n",
    "        asking_price = 'N/A'\n",
    "        # print('No asking price')\n",
    "        # print('\\n')\n",
    "\n",
    "    return [name, price, size, area, asking_price]"
   ]
  },
  {
   "cell_type": "code",
   "execution_count": 75,
   "metadata": {},
   "outputs": [
    {
     "data": {
      "text/plain": [
       "['Bolmens\\xadvägen 33',\n",
       " '2 600 000 kr',\n",
       " '41 m², 2 rum',\n",
       " 'Lägenhet, Årsta',\n",
       " '2 395 000 kr']"
      ]
     },
     "execution_count": 75,
     "metadata": {},
     "output_type": "execute_result"
    }
   ],
   "source": [
    "get_apartment_info('/bostad/337360')"
   ]
  },
  {
   "cell_type": "code",
   "execution_count": 91,
   "metadata": {},
   "outputs": [
    {
     "data": {
      "application/vnd.jupyter.widget-view+json": {
       "model_id": "99f075c37d954c1a9cb9e281c14d681f",
       "version_major": 2,
       "version_minor": 0
      },
      "text/plain": [
       "  0%|          | 0/35 [00:00<?, ?it/s]"
      ]
     },
     "metadata": {},
     "output_type": "display_data"
    }
   ],
   "source": [
    "df = pd.DataFrame(columns=['name', 'price', 'size', 'area', 'asking_price'])\n",
    "\n",
    "for i in tqdm(range(35)):\n",
    "    try:\n",
    "        df.loc[i] = get_apartment_info(hrefs[i])\n",
    "    except:\n",
    "        print('Error', 'i=', i)"
   ]
  },
  {
   "cell_type": "code",
   "execution_count": 99,
   "metadata": {},
   "outputs": [
    {
     "data": {
      "text/html": [
       "<div>\n",
       "<style scoped>\n",
       "    .dataframe tbody tr th:only-of-type {\n",
       "        vertical-align: middle;\n",
       "    }\n",
       "\n",
       "    .dataframe tbody tr th {\n",
       "        vertical-align: top;\n",
       "    }\n",
       "\n",
       "    .dataframe thead th {\n",
       "        text-align: right;\n",
       "    }\n",
       "</style>\n",
       "<table border=\"1\" class=\"dataframe\">\n",
       "  <thead>\n",
       "    <tr style=\"text-align: right;\">\n",
       "      <th></th>\n",
       "      <th>name</th>\n",
       "      <th>price</th>\n",
       "      <th>size</th>\n",
       "      <th>area</th>\n",
       "      <th>asking_price</th>\n",
       "    </tr>\n",
       "  </thead>\n",
       "  <tbody>\n",
       "    <tr>\n",
       "      <th>0</th>\n",
       "      <td>Gimågatan 32</td>\n",
       "      <td>8 270 000 kr</td>\n",
       "      <td>94 m²</td>\n",
       "      <td>Radhus, Bagarmossen</td>\n",
       "      <td>7 500 000 kr</td>\n",
       "    </tr>\n",
       "    <tr>\n",
       "      <th>1</th>\n",
       "      <td>Ölands­gatan 44</td>\n",
       "      <td>3 475 000 kr</td>\n",
       "      <td>41 m², 1 rum</td>\n",
       "      <td>Lägenhet, Södermalm</td>\n",
       "      <td>3 450 000 kr</td>\n",
       "    </tr>\n",
       "    <tr>\n",
       "      <th>2</th>\n",
       "      <td>Bolmens­vägen 33</td>\n",
       "      <td>2 600 000 kr</td>\n",
       "      <td>41 m², 2 rum</td>\n",
       "      <td>Lägenhet, Årsta</td>\n",
       "      <td>2 395 000 kr</td>\n",
       "    </tr>\n",
       "    <tr>\n",
       "      <th>3</th>\n",
       "      <td>Blekinge­gatan 18</td>\n",
       "      <td>7 450 000 kr</td>\n",
       "      <td>92 m², 4 rum</td>\n",
       "      <td>Lägenhet, Södermalm</td>\n",
       "      <td>8 295 000 kr</td>\n",
       "    </tr>\n",
       "    <tr>\n",
       "      <th>4</th>\n",
       "      <td>Bellmans­gatan 28A</td>\n",
       "      <td>10 000 000 kr</td>\n",
       "      <td>80 m², 3½ rum</td>\n",
       "      <td>Lägenhet, Södermalm</td>\n",
       "      <td>9 500 000 kr</td>\n",
       "    </tr>\n",
       "  </tbody>\n",
       "</table>\n",
       "</div>"
      ],
      "text/plain": [
       "                 name          price           size                 area  \\\n",
       "0        Gimågatan 32   8 270 000 kr          94 m²  Radhus, Bagarmossen   \n",
       "1     Ölands­gatan 44   3 475 000 kr   41 m², 1 rum  Lägenhet, Södermalm   \n",
       "2    Bolmens­vägen 33   2 600 000 kr   41 m², 2 rum      Lägenhet, Årsta   \n",
       "3   Blekinge­gatan 18   7 450 000 kr   92 m², 4 rum  Lägenhet, Södermalm   \n",
       "4  Bellmans­gatan 28A  10 000 000 kr  80 m², 3½ rum  Lägenhet, Södermalm   \n",
       "\n",
       "   asking_price  \n",
       "0  7 500 000 kr  \n",
       "1  3 450 000 kr  \n",
       "2  2 395 000 kr  \n",
       "3  8 295 000 kr  \n",
       "4  9 500 000 kr  "
      ]
     },
     "execution_count": 99,
     "metadata": {},
     "output_type": "execute_result"
    }
   ],
   "source": [
    "df.head()"
   ]
  },
  {
   "cell_type": "code",
   "execution_count": null,
   "metadata": {},
   "outputs": [],
   "source": [
    "<div class=\"EuKIv _36W0F\"><span>Visar <!-- -->35<!-- --> av <!-- -->209531</span></div>"
   ]
  },
  {
   "cell_type": "code",
   "execution_count": null,
   "metadata": {},
   "outputs": [],
   "source": []
  },
  {
   "cell_type": "code",
   "execution_count": null,
   "metadata": {},
   "outputs": [],
   "source": []
  },
  {
   "cell_type": "code",
   "execution_count": 83,
   "metadata": {},
   "outputs": [
    {
     "name": "stdout",
     "output_type": "stream",
     "text": [
      "0\n",
      "1\n",
      "2\n",
      "3\n"
     ]
    },
    {
     "ename": "IndexError",
     "evalue": "list index out of range",
     "output_type": "error",
     "traceback": [
      "\u001b[0;31m---------------------------------------------------------------------------\u001b[0m",
      "\u001b[0;31mIndexError\u001b[0m                                Traceback (most recent call last)",
      "\u001b[1;32m/Users/ericjohansson/Documents/portfolio_project/housing_prices.ipynb Cell 6\u001b[0m in \u001b[0;36m<cell line: 6>\u001b[0;34m()\u001b[0m\n\u001b[1;32m      <a href='vscode-notebook-cell:/Users/ericjohansson/Documents/portfolio_project/housing_prices.ipynb#ch0000023?line=5'>6</a>\u001b[0m \u001b[39mfor\u001b[39;00m i \u001b[39min\u001b[39;00m \u001b[39mrange\u001b[39m(\u001b[39m10\u001b[39m):\n\u001b[1;32m      <a href='vscode-notebook-cell:/Users/ericjohansson/Documents/portfolio_project/housing_prices.ipynb#ch0000023?line=6'>7</a>\u001b[0m     \u001b[39mprint\u001b[39m(i)\n\u001b[0;32m----> <a href='vscode-notebook-cell:/Users/ericjohansson/Documents/portfolio_project/housing_prices.ipynb#ch0000023?line=7'>8</a>\u001b[0m     df\u001b[39m.\u001b[39mloc[i] \u001b[39m=\u001b[39m get_apartment_info(hrefs[i])\n",
      "\u001b[1;32m/Users/ericjohansson/Documents/portfolio_project/housing_prices.ipynb Cell 6\u001b[0m in \u001b[0;36mget_apartment_info\u001b[0;34m(url)\u001b[0m\n\u001b[1;32m     <a href='vscode-notebook-cell:/Users/ericjohansson/Documents/portfolio_project/housing_prices.ipynb#ch0000023?line=9'>10</a>\u001b[0m price_development \u001b[39m=\u001b[39m info\u001b[39m.\u001b[39mcontents[\u001b[39m2\u001b[39m]\u001b[39m.\u001b[39mfind(\u001b[39m'\u001b[39m\u001b[39mdiv\u001b[39m\u001b[39m'\u001b[39m, class_\u001b[39m=\u001b[39m\u001b[39m\"\u001b[39m\u001b[39m_18w8g\u001b[39m\u001b[39m\"\u001b[39m)\u001b[39m.\u001b[39mtext\n\u001b[1;32m     <a href='vscode-notebook-cell:/Users/ericjohansson/Documents/portfolio_project/housing_prices.ipynb#ch0000023?line=10'>11</a>\u001b[0m date_sold \u001b[39m=\u001b[39m info\u001b[39m.\u001b[39mcontents[\u001b[39m3\u001b[39m]\u001b[39m.\u001b[39mfind(\u001b[39m'\u001b[39m\u001b[39mdiv\u001b[39m\u001b[39m'\u001b[39m, class_\u001b[39m=\u001b[39m\u001b[39m\"\u001b[39m\u001b[39m_18w8g\u001b[39m\u001b[39m\"\u001b[39m)\u001b[39m.\u001b[39mtext\n\u001b[0;32m---> <a href='vscode-notebook-cell:/Users/ericjohansson/Documents/portfolio_project/housing_prices.ipynb#ch0000023?line=11'>12</a>\u001b[0m price_per_sqm \u001b[39m=\u001b[39m info\u001b[39m.\u001b[39;49mcontents[\u001b[39m4\u001b[39;49m]\u001b[39m.\u001b[39mfind(\u001b[39m'\u001b[39m\u001b[39mdiv\u001b[39m\u001b[39m'\u001b[39m, class_\u001b[39m=\u001b[39m\u001b[39m\"\u001b[39m\u001b[39m_18w8g\u001b[39m\u001b[39m\"\u001b[39m)\u001b[39m.\u001b[39mtext\n\u001b[1;32m     <a href='vscode-notebook-cell:/Users/ericjohansson/Documents/portfolio_project/housing_prices.ipynb#ch0000023?line=12'>13</a>\u001b[0m days_on_booli \u001b[39m=\u001b[39m info\u001b[39m.\u001b[39mcontents[\u001b[39m5\u001b[39m]\u001b[39m.\u001b[39mfind(\u001b[39m'\u001b[39m\u001b[39mdiv\u001b[39m\u001b[39m'\u001b[39m, class_\u001b[39m=\u001b[39m\u001b[39m\"\u001b[39m\u001b[39m_18w8g\u001b[39m\u001b[39m\"\u001b[39m)\u001b[39m.\u001b[39mtext\n\u001b[1;32m     <a href='vscode-notebook-cell:/Users/ericjohansson/Documents/portfolio_project/housing_prices.ipynb#ch0000023?line=14'>15</a>\u001b[0m \u001b[39m# Getting size of apartment from other div\u001b[39;00m\n",
      "\u001b[0;31mIndexError\u001b[0m: list index out of range"
     ]
    }
   ],
   "source": [
    "# create empty dataframe with columns\n",
    "import pandas as pd\n",
    "df = pd.DataFrame(columns=['price', 'asking_price', 'price_development', 'date_sold', 'price_per_sqm', 'days_on_booli', 'nr_of_rooms'])\n",
    "\n",
    "# add list as row in dataframe\n",
    "for i in range(10):\n",
    "    print(i)\n",
    "    df.loc[i] = get_apartment_info(hrefs[i])"
   ]
  },
  {
   "cell_type": "code",
   "execution_count": 81,
   "metadata": {},
   "outputs": [
    {
     "data": {
      "text/html": [
       "<div>\n",
       "<style scoped>\n",
       "    .dataframe tbody tr th:only-of-type {\n",
       "        vertical-align: middle;\n",
       "    }\n",
       "\n",
       "    .dataframe tbody tr th {\n",
       "        vertical-align: top;\n",
       "    }\n",
       "\n",
       "    .dataframe thead th {\n",
       "        text-align: right;\n",
       "    }\n",
       "</style>\n",
       "<table border=\"1\" class=\"dataframe\">\n",
       "  <thead>\n",
       "    <tr style=\"text-align: right;\">\n",
       "      <th></th>\n",
       "      <th>price</th>\n",
       "      <th>asking_price</th>\n",
       "      <th>price_development</th>\n",
       "      <th>date_sold</th>\n",
       "      <th>price_per_sqm</th>\n",
       "      <th>days_on_booli</th>\n",
       "      <th>nr_of_rooms</th>\n",
       "    </tr>\n",
       "  </thead>\n",
       "  <tbody>\n",
       "    <tr>\n",
       "      <th>0</th>\n",
       "      <td>2 000 000 kr</td>\n",
       "      <td>1 795 000 kr</td>\n",
       "      <td>+205 000 kr (+11.4 %)</td>\n",
       "      <td>2022-07-22</td>\n",
       "      <td>38 500 kr/m²</td>\n",
       "      <td>11</td>\n",
       "      <td>1½</td>\n",
       "    </tr>\n",
       "  </tbody>\n",
       "</table>\n",
       "</div>"
      ],
      "text/plain": [
       "          price  asking_price      price_development   date_sold  \\\n",
       "0  2 000 000 kr  1 795 000 kr  +205 000 kr (+11.4 %)  2022-07-22   \n",
       "\n",
       "  price_per_sqm days_on_booli nr_of_rooms  \n",
       "0  38 500 kr/m²            11          1½  "
      ]
     },
     "execution_count": 81,
     "metadata": {},
     "output_type": "execute_result"
    }
   ],
   "source": [
    "df"
   ]
  },
  {
   "cell_type": "code",
   "execution_count": null,
   "metadata": {},
   "outputs": [],
   "source": [
    "\n",
    "#convert list into dataframe\n",
    "\n",
    "df = pd.DataFrame(list)\n",
    "df.columns = ['price', 'asking_price', 'price_development', 'date_sold', 'price_per_sqm', 'days_on_booli', 'nr_of_rooms']\n",
    "df.head()"
   ]
  },
  {
   "cell_type": "code",
   "execution_count": 74,
   "metadata": {},
   "outputs": [
    {
     "data": {
      "text/plain": [
       "'1½'"
      ]
     },
     "execution_count": 74,
     "metadata": {},
     "output_type": "execute_result"
    }
   ],
   "source": [
    "nr_of_rooms.find('h4').text.split(' ')[2]"
   ]
  },
  {
   "cell_type": "code",
   "execution_count": 63,
   "metadata": {},
   "outputs": [],
   "source": [
    "price = info.contents[0].find('div', class_=\"_18w8g\").text\n",
    "asking_price = info.contents[1].find('div', class_=\"_18w8g\").text\n",
    "price_development = info.contents[2].find('div', class_=\"_18w8g\").text\n",
    "date_sold = info.contents[3].find('div', class_=\"_18w8g\").text\n",
    "price_per_sqm = info.contents[4].find('div', class_=\"_18w8g\").text\n",
    "days_on_booli = info.contents[5].find('div', class_=\"_18w8g\").text"
   ]
  },
  {
   "cell_type": "code",
   "execution_count": 35,
   "metadata": {},
   "outputs": [],
   "source": [
    "# Retrieving the prices of the links in the page\n",
    "prices = []\n",
    "for href in hrefs[0:10]:\n",
    "    url = 'https://www.booli.se' + href\n",
    "    html_page = requests.get(url)\n",
    "    soup = BeautifulSoup(html_page.text, 'html.parser')\n",
    "    select = soup.find('div', class_=\"_2epd7 _12LuH\")\n",
    "    links = select.find_all('a')\n",
    "    prices.append(links[0].text)\n"
   ]
  },
  {
   "cell_type": "code",
   "execution_count": null,
   "metadata": {},
   "outputs": [],
   "source": []
  },
  {
   "cell_type": "code",
   "execution_count": 22,
   "metadata": {},
   "outputs": [
    {
     "name": "stdout",
     "output_type": "stream",
     "text": [
      "/bostad/416472\n",
      "+11.4 %Bäckbornas väg 31½ rum, 52 m²Lägenhet, Beckomberga Söderberga Park2 000 000 kr38 500 kr/m²2022-07-22\n",
      "\n",
      "\n",
      "/annons/4704232\n",
      "+1.3 %Lindhagensterrassen 91 rum, 39 m²Lägenhet, Lindhagen3 440 000 kr88 200 kr/m²2022-07-22\n",
      "\n",
      "\n",
      "/annons/4693839\n",
      "+2.6 %Stadingeplan 63 rum, 77 m²Lägenhet, Spånga1 790 000 kr23 200 kr/m²2022-07-22\n",
      "\n",
      "\n",
      "/annons/4708872\n",
      "—Wargentinsgatan 5A2 rum, 47 m²Lägenhet, Kungsholmen5 000 000 kr106 400 kr/m²2022-07-15\n",
      "\n",
      "\n",
      "/annons/4627089\n",
      "-0.6 %Sibyllegatan 262 rum, 36 m²Lägenhet, Östermalm4 225 000 kr117 400 kr/m²2022-07-22\n",
      "\n",
      "\n",
      "/bostad/467515\n",
      "-2.5 %Alingsåsvägen 562 rum, 54 m²Lägenhet, Hammarbyhöjden3 900 000 kr72 200 kr/m²2022-07-22\n",
      "\n",
      "\n",
      "/bostad/701608\n",
      "+4.7 %Porkalagatan 192 rum, 64½ m²Lägenhet, Kista1 775 000 kr27 500 kr/m²2022-07-22\n",
      "\n",
      "\n",
      "/annons/4692607\n",
      "+/-0 %Duvedsvägen 32 rum, 34½ m²Lägenhet, Vällingby Centrum1 495 000 kr43 100 kr/m²2022-07-22\n",
      "\n",
      "\n",
      "/annons/4633842\n",
      "+0.1 %Taxgatan 22 rum, 66 m²Lägenhet, Norra Djurgårdsstaden6 500 000 kr98 500 kr/m²2022-07-21\n",
      "\n",
      "\n",
      "/annons/4506395\n",
      "+5.3 %Astrakangatan 23 rum, 73 m²Lägenhet, Hässelby2 100 000 kr28 800 kr/m²2022-07-20\n",
      "\n",
      "\n",
      "/bostad/4207268\n",
      "+14.7 %Nickelgränd 61 rum, 24 m²Lägenhet, Vällingby1 600 000 kr66 700 kr/m²2022-07-21\n",
      "\n",
      "\n",
      "/annons/4698100\n",
      "+0.2 %Förlandagränd 844 rum, 95 m²Lägenhet, Älvsjö3 000 000 kr31 600 kr/m²2022-07-21\n",
      "\n",
      "\n",
      "/annons/4306582\n",
      "—Bastugatan 211 rum, 25 m²Lägenhet, Södermalm Maria3 750 000 kr150 000 kr/m²2022-07-21\n",
      "\n",
      "\n",
      "/bostad/663047\n",
      "-6.4 %Styrbordsgatan 223 rum, 79½ m²Lägenhet, Hammarby Sjöstad6 550 000 kr82 400 kr/m²2022-07-15\n",
      "\n",
      "\n",
      "/bostad/426807\n",
      "+16.1 %Karlbergsvägen 782 rum, 29 m²Lägenhet, Vasastan3 425 000 kr118 100 kr/m²2022-07-21\n",
      "\n",
      "\n",
      "/bostad/669382\n",
      "+11.6 %Mandelbrödsvägen 42 rum, 58 m²Lägenhet, Sköndal2 450 000 kr42 200 kr/m²2022-07-21\n",
      "\n",
      "\n",
      "/bostad/631597\n",
      "-2.3 %Kastrupgatan 162 rum, 53½ m²Lägenhet, Kista1 950 000 kr36 400 kr/m²2022-07-21\n",
      "\n",
      "\n",
      "/annons/4712124\n",
      "—Slätbaksvägen 53 rum, 55½ m²Lägenhet, Årsta3 000 000 kr54 100 kr/m²2022-07-21\n",
      "\n",
      "\n",
      "/bostad/631546\n",
      "+3.1 %Kastrupgatan 122 rum, 53½ m²Lägenhet, Kista1 850 000 kr34 600 kr/m²2022-07-21\n",
      "\n",
      "\n",
      "/annons/4145584\n",
      "+1.7 %Hjovägen 62 rum, 45 m²Lägenhet, Hammarbyhöjden2 925 000 kr65 000 kr/m²2022-07-20\n",
      "\n",
      "\n",
      "/bostad/3996024\n",
      "-4.8 %Älvsjö Stationsgata 142 rum, 52 m²Lägenhet, Älvsjö2 950 000 kr56 700 kr/m²2022-07-21\n",
      "\n",
      "\n",
      "/annons/4678440\n",
      "+1.3 %Götalandsvägen 2334 rum, 94 m²Lägenhet, Älvsjö4 000 000 kr42 600 kr/m²2022-07-21\n",
      "\n",
      "\n",
      "/annons/4667872\n",
      "-3 %Stavangergatan 682 rum, 55 m²Lägenhet, Husby1 450 000 kr26 400 kr/m²2022-07-21\n",
      "\n",
      "\n",
      "/bostad/312167\n",
      "+/-0 %Götalandsvägen 2473 rum, 73 m²Lägenhet, Älvsjö3 595 000 kr49 200 kr/m²2022-07-21\n",
      "\n",
      "\n",
      "/bostad/4002356\n",
      "+/-0 %Borgarfjordsgatan 21A2 rum, 52 m²Lägenhet, Kista2 750 000 kr52 900 kr/m²2022-07-21\n",
      "\n",
      "\n",
      "/bostad/3962186\n",
      "+3.1 %Smedsbacksgatan 71 rum, 35 m²Lägenhet, Gärdet3 500 000 kr100 000 kr/m²2022-07-21\n",
      "\n",
      "\n",
      "/annons/4655949\n",
      "+10.9 %Thunbergsgatan 62 rum, 45 m²Lägenhet, Hammarbyhöjden3 100 000 kr68 900 kr/m²2022-07-21\n",
      "\n",
      "\n",
      "/annons/4710280\n",
      "+9.5 %Ahlsellvägen 42 rum, 44 m²Lägenhet, Hjorthagen3 120 000 kr70 600 kr/m²2022-07-21\n",
      "\n",
      "\n",
      "/annons/4667445\n",
      "-2.3 %Rädisvägen 676 rum, 130 m²Radhus, Hässelby Villastad4 200 000 kr32 300 kr/m²2022-07-21\n",
      "\n",
      "\n",
      "/annons/4644448\n",
      "+16.6 %Spångavägen 82 rum, 56 m²Lägenhet, Bromma2 675 000 kr47 800 kr/m²2022-07-19\n",
      "\n",
      "\n",
      "/annons/4606023\n",
      "+2.4 %Bråvallagatan 52 rum, 44 m²Lägenhet, Vasastan4 500 000 kr102 300 kr/m²2022-07-20\n",
      "\n",
      "\n",
      "/bostad/783240\n",
      "+/-0 %Valutavägen 271 rum, 20 m²Lägenhet, Hägerstensåsen1 895 000 kr94 800 kr/m²2022-07-20\n",
      "\n",
      "\n",
      "/annons/4704079\n",
      "-4.3 %Luxgatan 254 rum, 84 m²Lägenhet, Essingeöarna6 500 000 kr77 400 kr/m²2022-07-20\n",
      "\n",
      "\n",
      "/annons/4647239\n",
      "-1.3 %Sveavägen 1353 rum, 77 m²Lägenhet, Vasastan7 700 000 kr100 000 kr/m²2022-07-20\n",
      "\n",
      "\n",
      "/bostad/631427\n",
      "+17.3 %Kaskögatan 63 rum, 76 m²Lägenhet, Akalla2 340 000 kr30 800 kr/m²2022-07-19\n",
      "\n",
      "\n"
     ]
    }
   ],
   "source": [
    "for a in select.find_all('a', href=True):\n",
    "    print(a['href'])\n",
    "    print(a.text)\n",
    "    print('\\n')\n",
    "    #print(\"Found the URL:\", a['href'])"
   ]
  },
  {
   "cell_type": "code",
   "execution_count": 17,
   "metadata": {},
   "outputs": [
    {
     "name": "stdout",
     "output_type": "stream",
     "text": [
      "Senaste fyra veckorna\n",
      "\n",
      "\n",
      "+11.4 %Bäckbornas väg 31½ rum, 52 m²Lägenhet, Beckomberga Söderberga Park2 000 000 kr38 500 kr/m²2022-07-22\n",
      "\n",
      "\n",
      "+1.3 %Lindhagensterrassen 91 rum, 39 m²Lägenhet, Lindhagen3 440 000 kr88 200 kr/m²2022-07-22\n",
      "\n",
      "\n",
      "+2.6 %Stadingeplan 63 rum, 77 m²Lägenhet, Spånga1 790 000 kr23 200 kr/m²2022-07-22\n",
      "\n",
      "\n",
      "—Wargentinsgatan 5A2 rum, 47 m²Lägenhet, Kungsholmen5 000 000 kr106 400 kr/m²2022-07-15\n",
      "\n",
      "\n",
      "-0.6 %Sibyllegatan 262 rum, 36 m²Lägenhet, Östermalm4 225 000 kr117 400 kr/m²2022-07-22\n",
      "\n",
      "\n",
      "-2.5 %Alingsåsvägen 562 rum, 54 m²Lägenhet, Hammarbyhöjden3 900 000 kr72 200 kr/m²2022-07-22\n",
      "\n",
      "\n",
      "+4.7 %Porkalagatan 192 rum, 64½ m²Lägenhet, Kista1 775 000 kr27 500 kr/m²2022-07-22\n",
      "\n",
      "\n",
      "+/-0 %Duvedsvägen 32 rum, 34½ m²Lägenhet, Vällingby Centrum1 495 000 kr43 100 kr/m²2022-07-22\n",
      "\n",
      "\n",
      "+0.1 %Taxgatan 22 rum, 66 m²Lägenhet, Norra Djurgårdsstaden6 500 000 kr98 500 kr/m²2022-07-21\n",
      "\n",
      "\n",
      "+5.3 %Astrakangatan 23 rum, 73 m²Lägenhet, Hässelby2 100 000 kr28 800 kr/m²2022-07-20\n",
      "\n",
      "\n",
      "+14.7 %Nickelgränd 61 rum, 24 m²Lägenhet, Vällingby1 600 000 kr66 700 kr/m²2022-07-21\n",
      "\n",
      "\n",
      "+0.2 %Förlandagränd 844 rum, 95 m²Lägenhet, Älvsjö3 000 000 kr31 600 kr/m²2022-07-21\n",
      "\n",
      "\n",
      "—Bastugatan 211 rum, 25 m²Lägenhet, Södermalm Maria3 750 000 kr150 000 kr/m²2022-07-21\n",
      "\n",
      "\n",
      "-6.4 %Styrbordsgatan 223 rum, 79½ m²Lägenhet, Hammarby Sjöstad6 550 000 kr82 400 kr/m²2022-07-15\n",
      "\n",
      "\n",
      "+16.1 %Karlbergsvägen 782 rum, 29 m²Lägenhet, Vasastan3 425 000 kr118 100 kr/m²2022-07-21\n",
      "\n",
      "\n",
      "+11.6 %Mandelbrödsvägen 42 rum, 58 m²Lägenhet, Sköndal2 450 000 kr42 200 kr/m²2022-07-21\n",
      "\n",
      "\n",
      "-2.3 %Kastrupgatan 162 rum, 53½ m²Lägenhet, Kista1 950 000 kr36 400 kr/m²2022-07-21\n",
      "\n",
      "\n",
      "—Slätbaksvägen 53 rum, 55½ m²Lägenhet, Årsta3 000 000 kr54 100 kr/m²2022-07-21\n",
      "\n",
      "\n",
      "+3.1 %Kastrupgatan 122 rum, 53½ m²Lägenhet, Kista1 850 000 kr34 600 kr/m²2022-07-21\n",
      "\n",
      "\n",
      "+1.7 %Hjovägen 62 rum, 45 m²Lägenhet, Hammarbyhöjden2 925 000 kr65 000 kr/m²2022-07-20\n",
      "\n",
      "\n",
      "-4.8 %Älvsjö Stationsgata 142 rum, 52 m²Lägenhet, Älvsjö2 950 000 kr56 700 kr/m²2022-07-21\n",
      "\n",
      "\n",
      "+1.3 %Götalandsvägen 2334 rum, 94 m²Lägenhet, Älvsjö4 000 000 kr42 600 kr/m²2022-07-21\n",
      "\n",
      "\n",
      "-3 %Stavangergatan 682 rum, 55 m²Lägenhet, Husby1 450 000 kr26 400 kr/m²2022-07-21\n",
      "\n",
      "\n",
      "+/-0 %Götalandsvägen 2473 rum, 73 m²Lägenhet, Älvsjö3 595 000 kr49 200 kr/m²2022-07-21\n",
      "\n",
      "\n",
      "+/-0 %Borgarfjordsgatan 21A2 rum, 52 m²Lägenhet, Kista2 750 000 kr52 900 kr/m²2022-07-21\n",
      "\n",
      "\n",
      "+3.1 %Smedsbacksgatan 71 rum, 35 m²Lägenhet, Gärdet3 500 000 kr100 000 kr/m²2022-07-21\n",
      "\n",
      "\n",
      "+10.9 %Thunbergsgatan 62 rum, 45 m²Lägenhet, Hammarbyhöjden3 100 000 kr68 900 kr/m²2022-07-21\n",
      "\n",
      "\n",
      "+9.5 %Ahlsellvägen 42 rum, 44 m²Lägenhet, Hjorthagen3 120 000 kr70 600 kr/m²2022-07-21\n",
      "\n",
      "\n",
      "-2.3 %Rädisvägen 676 rum, 130 m²Radhus, Hässelby Villastad4 200 000 kr32 300 kr/m²2022-07-21\n",
      "\n",
      "\n",
      "+16.6 %Spångavägen 82 rum, 56 m²Lägenhet, Bromma2 675 000 kr47 800 kr/m²2022-07-19\n",
      "\n",
      "\n",
      "+2.4 %Bråvallagatan 52 rum, 44 m²Lägenhet, Vasastan4 500 000 kr102 300 kr/m²2022-07-20\n",
      "\n",
      "\n",
      "+/-0 %Valutavägen 271 rum, 20 m²Lägenhet, Hägerstensåsen1 895 000 kr94 800 kr/m²2022-07-20\n",
      "\n",
      "\n",
      "-4.3 %Luxgatan 254 rum, 84 m²Lägenhet, Essingeöarna6 500 000 kr77 400 kr/m²2022-07-20\n",
      "\n",
      "\n",
      "-1.3 %Sveavägen 1353 rum, 77 m²Lägenhet, Vasastan7 700 000 kr100 000 kr/m²2022-07-20\n",
      "\n",
      "\n",
      "+17.3 %Kaskögatan 63 rum, 76 m²Lägenhet, Akalla2 340 000 kr30 800 kr/m²2022-07-19\n",
      "\n",
      "\n"
     ]
    }
   ],
   "source": [
    "for element in select:\n",
    "    print(element.text)\n",
    "    print(\"\\n\")"
   ]
  },
  {
   "cell_type": "code",
   "execution_count": null,
   "metadata": {},
   "outputs": [],
   "source": []
  },
  {
   "cell_type": "code",
   "execution_count": null,
   "metadata": {},
   "outputs": [],
   "source": []
  },
  {
   "cell_type": "markdown",
   "metadata": {},
   "source": []
  }
 ],
 "metadata": {
  "kernelspec": {
   "display_name": "Python 3.8.13",
   "language": "python",
   "name": "python3"
  },
  "language_info": {
   "codemirror_mode": {
    "name": "ipython",
    "version": 3
   },
   "file_extension": ".py",
   "mimetype": "text/x-python",
   "name": "python",
   "nbconvert_exporter": "python",
   "pygments_lexer": "ipython3",
   "version": "3.8.13"
  },
  "orig_nbformat": 4,
  "vscode": {
   "interpreter": {
    "hash": "f828781220b021d9830e0a4e92cee8ee3446c374f72433392c3b0ac39ab736dc"
   }
  }
 },
 "nbformat": 4,
 "nbformat_minor": 2
}
