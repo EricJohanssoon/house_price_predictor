{
 "cells": [
  {
   "cell_type": "markdown",
   "metadata": {},
   "source": [
    "## TODOS\n",
    "\n",
    "- Impute values where #rooms is missing\n",
    "- Add more features\n",
    "- Add data exploration"
   ]
  },
  {
   "cell_type": "markdown",
   "metadata": {},
   "source": [
    "inspo -> https://towardsdatascience.com/web-scraping-apartment-listings-in-stockholm-3fcebacf8be6"
   ]
  },
  {
   "cell_type": "code",
   "execution_count": 4,
   "metadata": {},
   "outputs": [],
   "source": [
    "# imports\n",
    "from bs4 import BeautifulSoup\n",
    "import requests\n",
    "from tqdm.notebook import tqdm as tqdm\n",
    "import pandas as pd\n",
    "from sklearn.model_selection import train_test_split\n",
    "from sklearn.ensemble import RandomForestRegressor\n",
    "from sklearn import metrics\n",
    "import pickle"
   ]
  },
  {
   "cell_type": "markdown",
   "metadata": {},
   "source": []
  },
  {
   "cell_type": "code",
   "execution_count": 48,
   "metadata": {},
   "outputs": [],
   "source": [
    "# Retrieving the hrefs of the links in the page\n",
    "url = 'https://www.booli.se/slutpriser/stockholm/1?page=1'\n",
    "html_page = requests.get(url)\n",
    "soup = BeautifulSoup(html_page.text, 'html.parser')\n",
    "select = soup.find('div', class_=\"_2m6km uC2y2 _3oDFL\")\n",
    "links = select.find_all('a')\n",
    "hrefs = [link.get('href') for link in links]"
   ]
  },
  {
   "cell_type": "code",
   "execution_count": 49,
   "metadata": {},
   "outputs": [
    {
     "data": {
      "text/plain": [
       "5987"
      ]
     },
     "execution_count": 49,
     "metadata": {},
     "output_type": "execute_result"
    }
   ],
   "source": [
    "# function to calculate number of pages that can be scraped\n",
    "def get_nr_of_pages(url):\n",
    "    html_page = requests.get(url)\n",
    "    soup = BeautifulSoup(html_page.text, 'html.parser')\n",
    "    select = soup.find('div', class_=\"EuKIv _36W0F\")\n",
    "    nr_of_objects = select.find('span').text.split(' ')[3]\n",
    "    nr_of_pages = int(nr_of_objects) // 35 + 1\n",
    "    return nr_of_pages\n",
    "\n",
    "get_nr_of_pages(url)"
   ]
  },
  {
   "cell_type": "code",
   "execution_count": 50,
   "metadata": {},
   "outputs": [
    {
     "name": "stdout",
     "output_type": "stream",
     "text": [
      "Collected 4000 links from 115 pages\n"
     ]
    }
   ],
   "source": [
    "# Retrieving the hrefs of the links in the page\n",
    "nr_of_objects = 4000\n",
    "hrefs = []\n",
    "\n",
    "for i in range(1,nr_of_objects//35+2):\n",
    "    url = 'https://www.booli.se/slutpriser/stockholm/1?page=' + str(i)\n",
    "    html_page = requests.get(url)\n",
    "    soup = BeautifulSoup(html_page.text, 'html.parser')\n",
    "    select = soup.find('div', class_=\"_2m6km uC2y2 _3oDFL\")\n",
    "    links = select.find_all('a')\n",
    "    links_in_this_page = [link.get('href') for link in links]\n",
    "    hrefs.extend(links_in_this_page)\n",
    "    hrefs = hrefs[0:nr_of_objects]\n",
    "\n",
    "print('Collected', len(hrefs), 'links from', i, 'pages')"
   ]
  },
  {
   "cell_type": "code",
   "execution_count": 51,
   "metadata": {},
   "outputs": [],
   "source": [
    "def get_apartment_info(url_suffix):\n",
    "    url = 'https://www.booli.se' + url_suffix\n",
    "    html_page = requests.get(url)\n",
    "    soup = BeautifulSoup(html_page.text, 'html.parser')\n",
    "    select = soup.find('div', class_=\"_2epd7 _12LuH\")\n",
    "    infobox_1 = select.find('div', class_=\"_2epd7\")\n",
    "    infobox_2 = soup.find('div', class_=\"_2IyrD _36W0F _16dH_\")\n",
    "\n",
    "    # extracting name, price, size and area from left infobox.\n",
    "    name = infobox_2.find('h1').text\n",
    "    price = infobox_2.find('h2').text\n",
    "    size_and_area = infobox_2.findAll('h4')\n",
    "    size = size_and_area[0].text\n",
    "    area = size_and_area[1].text\n",
    "\n",
    "    # print(name)\n",
    "    # print(price)\n",
    "    # print(size)\n",
    "    # print(area)\n",
    "\n",
    "    # extracting asking price\n",
    "    try:\n",
    "        asking_price_div = infobox_1.select('div:contains(\"Utropspris\")')[0]\n",
    "        asking_price = asking_price_div.find('div', class_=\"_18w8g\").text\n",
    "        # print(asking_price, '\\n')\n",
    "    except:\n",
    "        asking_price = 'N/A'\n",
    "        # print('No asking price')\n",
    "        # print('\\n')\n",
    "\n",
    "    return [name, price, size, area, asking_price, url]"
   ]
  },
  {
   "cell_type": "code",
   "execution_count": 5,
   "metadata": {},
   "outputs": [
    {
     "ename": "NameError",
     "evalue": "name 'nr_of_objects' is not defined",
     "output_type": "error",
     "traceback": [
      "\u001b[0;31m---------------------------------------------------------------------------\u001b[0m",
      "\u001b[0;31mNameError\u001b[0m                                 Traceback (most recent call last)",
      "\u001b[1;32m/Users/ericjohansson/Documents/portfolio_project/house_price_predictor/files_for_training_model/housing_prices.ipynb Cell 8\u001b[0m in \u001b[0;36m<cell line: 5>\u001b[0;34m()\u001b[0m\n\u001b[1;32m      <a href='vscode-notebook-cell:/Users/ericjohansson/Documents/portfolio_project/house_price_predictor/files_for_training_model/housing_prices.ipynb#X10sZmlsZQ%3D%3D?line=0'>1</a>\u001b[0m \u001b[39m# Creating a dataframe with the scraped data, ignoring rows without relevant data\u001b[39;00m\n\u001b[1;32m      <a href='vscode-notebook-cell:/Users/ericjohansson/Documents/portfolio_project/house_price_predictor/files_for_training_model/housing_prices.ipynb#X10sZmlsZQ%3D%3D?line=2'>3</a>\u001b[0m df \u001b[39m=\u001b[39m pd\u001b[39m.\u001b[39mDataFrame(columns\u001b[39m=\u001b[39m[\u001b[39m'\u001b[39m\u001b[39mname\u001b[39m\u001b[39m'\u001b[39m, \u001b[39m'\u001b[39m\u001b[39mprice\u001b[39m\u001b[39m'\u001b[39m, \u001b[39m'\u001b[39m\u001b[39msize\u001b[39m\u001b[39m'\u001b[39m, \u001b[39m'\u001b[39m\u001b[39marea\u001b[39m\u001b[39m'\u001b[39m, \u001b[39m'\u001b[39m\u001b[39masking_price\u001b[39m\u001b[39m'\u001b[39m, \u001b[39m'\u001b[39m\u001b[39murl\u001b[39m\u001b[39m'\u001b[39m])\n\u001b[0;32m----> <a href='vscode-notebook-cell:/Users/ericjohansson/Documents/portfolio_project/house_price_predictor/files_for_training_model/housing_prices.ipynb#X10sZmlsZQ%3D%3D?line=4'>5</a>\u001b[0m \u001b[39mfor\u001b[39;00m i \u001b[39min\u001b[39;00m tqdm(\u001b[39mrange\u001b[39m(nr_of_objects)):\n\u001b[1;32m      <a href='vscode-notebook-cell:/Users/ericjohansson/Documents/portfolio_project/house_price_predictor/files_for_training_model/housing_prices.ipynb#X10sZmlsZQ%3D%3D?line=5'>6</a>\u001b[0m     \u001b[39mtry\u001b[39;00m:\n\u001b[1;32m      <a href='vscode-notebook-cell:/Users/ericjohansson/Documents/portfolio_project/house_price_predictor/files_for_training_model/housing_prices.ipynb#X10sZmlsZQ%3D%3D?line=6'>7</a>\u001b[0m         df\u001b[39m.\u001b[39mloc[i] \u001b[39m=\u001b[39m get_apartment_info(hrefs[i])\n",
      "\u001b[0;31mNameError\u001b[0m: name 'nr_of_objects' is not defined"
     ]
    }
   ],
   "source": [
    "# Creating a dataframe with the scraped data, ignoring rows without relevant data\n",
    "\n",
    "df = pd.DataFrame(columns=['name', 'price', 'size', 'area', 'asking_price', 'url'])\n",
    "\n",
    "for i in tqdm(range(nr_of_objects)):\n",
    "    try:\n",
    "        df.loc[i] = get_apartment_info(hrefs[i])\n",
    "    except:\n",
    "        print('Error with', hrefs[i], 'at', i)"
   ]
  },
  {
   "cell_type": "code",
   "execution_count": 140,
   "metadata": {},
   "outputs": [],
   "source": [
    "# saving the dataframe to a csv file\n",
    "# df.to_csv('housing_info.csv', index=False)"
   ]
  },
  {
   "cell_type": "code",
   "execution_count": 6,
   "metadata": {},
   "outputs": [
    {
     "name": "stdout",
     "output_type": "stream",
     "text": [
      "Length of dataframe: 3638\n"
     ]
    }
   ],
   "source": [
    "# reading the csv file\n",
    "df = pd.read_csv('housing_info.csv')\n",
    "print('Length of dataframe:', len(df))\n",
    "df_copy = df.head().copy()"
   ]
  },
  {
   "cell_type": "markdown",
   "metadata": {},
   "source": [
    "## Clean the data"
   ]
  },
  {
   "cell_type": "code",
   "execution_count": null,
   "metadata": {},
   "outputs": [],
   "source": [
    "def clean_data(row):\n",
    "    \n",
    "    # convert price to int and delete ' kr'\n",
    "    row['price'] = int(row['price'].replace(' kr', '').replace(' ', ''))\n",
    "\n",
    "    # split up size into size and #rooms\n",
    "    size_and_rooms = row['size'].replace('½', '.5').split(',')\n",
    "    if len(size_and_rooms) > 1:\n",
    "        row['size'] = float(size_and_rooms[0].split(' ')[0])\n",
    "        row['rooms'] = float(size_and_rooms[1].split('rum')[0])\n",
    "    else:\n",
    "        row['size'] = int(size_and_rooms[0].split(' ')[0])\n",
    "        row['rooms'] = 'N/A'\n",
    "\n",
    "    # split up area into area and house type\n",
    "    area_and_house_type = row['area'].split(',')\n",
    "    row['area'] = area_and_house_type[1]\n",
    "    row['type'] = area_and_house_type[0]\n",
    "\n",
    "    return row\n",
    "\n",
    "df = df.apply(clean_data, axis=1)"
   ]
  },
  {
   "cell_type": "code",
   "execution_count": 20,
   "metadata": {},
   "outputs": [],
   "source": [
    "df['price_per_m2'] = df['price'] / df['size']\n",
    "df['price_per_m2'] = df['price_per_m2'].round(2)"
   ]
  },
  {
   "cell_type": "markdown",
   "metadata": {},
   "source": []
  },
  {
   "cell_type": "code",
   "execution_count": 22,
   "metadata": {},
   "outputs": [
    {
     "name": "stdout",
     "output_type": "stream",
     "text": [
      "Nr of unique areas: 256\n"
     ]
    },
    {
     "data": {
      "text/html": [
       "<div>\n",
       "<style scoped>\n",
       "    .dataframe tbody tr th:only-of-type {\n",
       "        vertical-align: middle;\n",
       "    }\n",
       "\n",
       "    .dataframe tbody tr th {\n",
       "        vertical-align: top;\n",
       "    }\n",
       "\n",
       "    .dataframe thead th {\n",
       "        text-align: right;\n",
       "    }\n",
       "</style>\n",
       "<table border=\"1\" class=\"dataframe\">\n",
       "  <thead>\n",
       "    <tr style=\"text-align: right;\">\n",
       "      <th></th>\n",
       "      <th>area</th>\n",
       "      <th>price_per_m2_avg</th>\n",
       "    </tr>\n",
       "  </thead>\n",
       "  <tbody>\n",
       "    <tr>\n",
       "      <th>205</th>\n",
       "      <td>Södermalm-Högalid</td>\n",
       "      <td>163333.0</td>\n",
       "    </tr>\n",
       "    <tr>\n",
       "      <th>202</th>\n",
       "      <td>Södermalm Mosebacke</td>\n",
       "      <td>128409.0</td>\n",
       "    </tr>\n",
       "    <tr>\n",
       "      <th>219</th>\n",
       "      <td>Vasastan Odenplan</td>\n",
       "      <td>125631.0</td>\n",
       "    </tr>\n",
       "    <tr>\n",
       "      <th>140</th>\n",
       "      <td>Norr Mälarstrand</td>\n",
       "      <td>124589.0</td>\n",
       "    </tr>\n",
       "    <tr>\n",
       "      <th>252</th>\n",
       "      <td>Östermalm</td>\n",
       "      <td>124132.0</td>\n",
       "    </tr>\n",
       "    <tr>\n",
       "      <th>196</th>\n",
       "      <td>Södermalm - Reimersholme</td>\n",
       "      <td>123864.0</td>\n",
       "    </tr>\n",
       "    <tr>\n",
       "      <th>62</th>\n",
       "      <td>Hagastaden Vasastan</td>\n",
       "      <td>123571.0</td>\n",
       "    </tr>\n",
       "    <tr>\n",
       "      <th>50</th>\n",
       "      <td>Gamla Stan</td>\n",
       "      <td>122633.0</td>\n",
       "    </tr>\n",
       "    <tr>\n",
       "      <th>198</th>\n",
       "      <td>Södermalm / Mosebacke</td>\n",
       "      <td>122078.0</td>\n",
       "    </tr>\n",
       "    <tr>\n",
       "      <th>221</th>\n",
       "      <td>Vasastan-Sibirien</td>\n",
       "      <td>121639.0</td>\n",
       "    </tr>\n",
       "  </tbody>\n",
       "</table>\n",
       "</div>"
      ],
      "text/plain": [
       "                          area  price_per_m2_avg\n",
       "205          Södermalm-Högalid          163333.0\n",
       "202        Södermalm Mosebacke          128409.0\n",
       "219          Vasastan Odenplan          125631.0\n",
       "140           Norr Mälarstrand          124589.0\n",
       "252                  Östermalm          124132.0\n",
       "196   Södermalm - Reimersholme          123864.0\n",
       "62         Hagastaden Vasastan          123571.0\n",
       "50                  Gamla Stan          122633.0\n",
       "198      Södermalm / Mosebacke          122078.0\n",
       "221          Vasastan-Sibirien          121639.0"
      ]
     },
     "execution_count": 22,
     "metadata": {},
     "output_type": "execute_result"
    }
   ],
   "source": [
    "# count average price per m2 for each area\n",
    "print('Nr of unique areas:', len(df['area'].unique()))\n",
    "df_average_price_in_area = df.groupby('area')['price_per_m2'].mean().reset_index().round(0)\n",
    "df_average_price_in_area.rename(columns={'price_per_m2': 'price_per_m2_avg'}, inplace=True)\n",
    "df_average_price_in_area.sort_values(by='price_per_m2_avg', ascending=False, inplace=True)\n",
    "df_average_price_in_area.head(10)\n"
   ]
  },
  {
   "cell_type": "code",
   "execution_count": 23,
   "metadata": {},
   "outputs": [],
   "source": [
    "import json\n",
    "\n",
    "# convert df_average_price_in_area to a dictionary\n",
    "average_price_in_area = df_average_price_in_area.set_index('area').T.to_dict('list')\n",
    "\n",
    "#export to json\n",
    "with open('average_price_in_area.json', 'w') as f:\n",
    "    json.dump(average_price_in_area, f)\n",
    "\n",
    "# apply lambda function to df to get average price per m2 for each area\n",
    "df['area_price_per_m2'] = df.apply(lambda row: average_price_in_area[row['area']][0], axis=1)"
   ]
  },
  {
   "cell_type": "code",
   "execution_count": 24,
   "metadata": {},
   "outputs": [
    {
     "data": {
      "text/html": [
       "<div>\n",
       "<style scoped>\n",
       "    .dataframe tbody tr th:only-of-type {\n",
       "        vertical-align: middle;\n",
       "    }\n",
       "\n",
       "    .dataframe tbody tr th {\n",
       "        vertical-align: top;\n",
       "    }\n",
       "\n",
       "    .dataframe thead th {\n",
       "        text-align: right;\n",
       "    }\n",
       "</style>\n",
       "<table border=\"1\" class=\"dataframe\">\n",
       "  <thead>\n",
       "    <tr style=\"text-align: right;\">\n",
       "      <th></th>\n",
       "      <th>name</th>\n",
       "      <th>price</th>\n",
       "      <th>size</th>\n",
       "      <th>area</th>\n",
       "      <th>asking_price</th>\n",
       "      <th>rooms</th>\n",
       "      <th>type</th>\n",
       "      <th>price_per_m2</th>\n",
       "      <th>area_price_per_m2</th>\n",
       "    </tr>\n",
       "  </thead>\n",
       "  <tbody>\n",
       "    <tr>\n",
       "      <th>0</th>\n",
       "      <td>Jämtlands­gatan 152</td>\n",
       "      <td>2600000</td>\n",
       "      <td>78.0</td>\n",
       "      <td>Hässelby-Vällingby</td>\n",
       "      <td>NaN</td>\n",
       "      <td>3.0</td>\n",
       "      <td>Lägenhet</td>\n",
       "      <td>33333.33</td>\n",
       "      <td>57544.0</td>\n",
       "    </tr>\n",
       "    <tr>\n",
       "      <th>1</th>\n",
       "      <td>Jämtlands­gatan 97</td>\n",
       "      <td>2800000</td>\n",
       "      <td>66.0</td>\n",
       "      <td>Vällingby Parkstad</td>\n",
       "      <td>2 795 000 kr</td>\n",
       "      <td>2.0</td>\n",
       "      <td>Lägenhet</td>\n",
       "      <td>42424.24</td>\n",
       "      <td>44364.0</td>\n",
       "    </tr>\n",
       "    <tr>\n",
       "      <th>2</th>\n",
       "      <td>Dala­gatan 86G</td>\n",
       "      <td>3320000</td>\n",
       "      <td>34.0</td>\n",
       "      <td>Vasastan</td>\n",
       "      <td>3 395 000 kr</td>\n",
       "      <td>1.0</td>\n",
       "      <td>Lägenhet</td>\n",
       "      <td>97647.06</td>\n",
       "      <td>113740.0</td>\n",
       "    </tr>\n",
       "    <tr>\n",
       "      <th>3</th>\n",
       "      <td>Valhalla­vägen 155</td>\n",
       "      <td>6500000</td>\n",
       "      <td>67.0</td>\n",
       "      <td>Östermalm Nedre Gärdet</td>\n",
       "      <td>6 200 000 kr</td>\n",
       "      <td>2.5</td>\n",
       "      <td>Lägenhet</td>\n",
       "      <td>97014.93</td>\n",
       "      <td>101733.0</td>\n",
       "    </tr>\n",
       "    <tr>\n",
       "      <th>4</th>\n",
       "      <td>Rådmans­gatan 1B</td>\n",
       "      <td>10850000</td>\n",
       "      <td>81.0</td>\n",
       "      <td>Östermalm</td>\n",
       "      <td>11 250 000 kr</td>\n",
       "      <td>3.0</td>\n",
       "      <td>Lägenhet</td>\n",
       "      <td>133950.62</td>\n",
       "      <td>124132.0</td>\n",
       "    </tr>\n",
       "  </tbody>\n",
       "</table>\n",
       "</div>"
      ],
      "text/plain": [
       "                  name     price  size                     area  \\\n",
       "0  Jämtlands­gatan 152   2600000  78.0       Hässelby-Vällingby   \n",
       "1   Jämtlands­gatan 97   2800000  66.0       Vällingby Parkstad   \n",
       "2       Dala­gatan 86G   3320000  34.0                 Vasastan   \n",
       "3   Valhalla­vägen 155   6500000  67.0   Östermalm Nedre Gärdet   \n",
       "4     Rådmans­gatan 1B  10850000  81.0                Östermalm   \n",
       "\n",
       "    asking_price  rooms      type  price_per_m2  area_price_per_m2  \n",
       "0            NaN    3.0  Lägenhet      33333.33            57544.0  \n",
       "1   2 795 000 kr    2.0  Lägenhet      42424.24            44364.0  \n",
       "2   3 395 000 kr    1.0  Lägenhet      97647.06           113740.0  \n",
       "3   6 200 000 kr    2.5  Lägenhet      97014.93           101733.0  \n",
       "4  11 250 000 kr    3.0  Lägenhet     133950.62           124132.0  "
      ]
     },
     "execution_count": 24,
     "metadata": {},
     "output_type": "execute_result"
    }
   ],
   "source": [
    "df.head()"
   ]
  },
  {
   "cell_type": "markdown",
   "metadata": {},
   "source": [
    "Since we don't want to use categorical data, we can replace the area with the average selling price / m2."
   ]
  },
  {
   "cell_type": "code",
   "execution_count": 11,
   "metadata": {},
   "outputs": [
    {
     "name": "stdout",
     "output_type": "stream",
     "text": [
      "256\n",
      "0\n"
     ]
    }
   ],
   "source": [
    "# find unique values in area\n",
    "print(len(df['area'].unique()))\n",
    "\n",
    "# find number of nan values in rooms\n",
    "print(len(df[df['rooms']=='N/A']))\n",
    "\n",
    "# drop nan values in rooms (for now), change this later\n",
    "df = df[df['rooms']!='N/A']"
   ]
  },
  {
   "cell_type": "markdown",
   "metadata": {},
   "source": [
    "## Preparing for training model"
   ]
  },
  {
   "cell_type": "code",
   "execution_count": 12,
   "metadata": {},
   "outputs": [],
   "source": [
    "df_x = df[['size', 'rooms', 'area_price_per_m2']]\n",
    "df_y = df['price']\n",
    "\n",
    "x_train, x_test, y_train, y_test = train_test_split(df_x, df_y, test_size=0.2, random_state=42)"
   ]
  },
  {
   "cell_type": "code",
   "execution_count": 13,
   "metadata": {},
   "outputs": [],
   "source": [
    "#XGB Regressor \n",
    "rf_regressor = RandomForestRegressor(n_estimators=20) #max_depth=15\n",
    "rf_regressor.fit(x_train, y_train)\n",
    "y_pred = rf_regressor.predict(x_test)"
   ]
  },
  {
   "cell_type": "code",
   "execution_count": 14,
   "metadata": {},
   "outputs": [
    {
     "name": "stdout",
     "output_type": "stream",
     "text": [
      "Mean Absolute Error: 701312.3266321853\n"
     ]
    }
   ],
   "source": [
    "print('Mean Absolute Error:', metrics.mean_absolute_error(y_test, y_pred))"
   ]
  },
  {
   "cell_type": "code",
   "execution_count": 15,
   "metadata": {},
   "outputs": [
    {
     "name": "stdout",
     "output_type": "stream",
     "text": [
      "Cross validation scores: [0.87302593 0.89321212 0.87264059 0.88137574 0.87777733]\n",
      "Mean cross validation score: 0.8796063414242253\n"
     ]
    }
   ],
   "source": [
    "from sklearn.model_selection import cross_val_score\n",
    "\n",
    "# use cross validation to find the best number of estimators\n",
    "scores = cross_val_score(rf_regressor, x_train, y_train, cv=5)\n",
    "print('Cross validation scores:', scores)\n",
    "print('Mean cross validation score:', scores.mean())\n"
   ]
  },
  {
   "cell_type": "code",
   "execution_count": 16,
   "metadata": {},
   "outputs": [
    {
     "data": {
      "text/html": [
       "<div>\n",
       "<style scoped>\n",
       "    .dataframe tbody tr th:only-of-type {\n",
       "        vertical-align: middle;\n",
       "    }\n",
       "\n",
       "    .dataframe tbody tr th {\n",
       "        vertical-align: top;\n",
       "    }\n",
       "\n",
       "    .dataframe thead th {\n",
       "        text-align: right;\n",
       "    }\n",
       "</style>\n",
       "<table border=\"1\" class=\"dataframe\">\n",
       "  <thead>\n",
       "    <tr style=\"text-align: right;\">\n",
       "      <th></th>\n",
       "      <th>size</th>\n",
       "      <th>rooms</th>\n",
       "      <th>area_price_per_m2</th>\n",
       "    </tr>\n",
       "  </thead>\n",
       "  <tbody>\n",
       "    <tr>\n",
       "      <th>415</th>\n",
       "      <td>58.0</td>\n",
       "      <td>2.0</td>\n",
       "      <td>98282.0</td>\n",
       "    </tr>\n",
       "  </tbody>\n",
       "</table>\n",
       "</div>"
      ],
      "text/plain": [
       "     size  rooms  area_price_per_m2\n",
       "415  58.0    2.0            98282.0"
      ]
     },
     "execution_count": 16,
     "metadata": {},
     "output_type": "execute_result"
    }
   ],
   "source": [
    "x_test.head(1)"
   ]
  },
  {
   "cell_type": "code",
   "execution_count": 17,
   "metadata": {},
   "outputs": [
    {
     "data": {
      "text/plain": [
       "array([6591125.])"
      ]
     },
     "execution_count": 17,
     "metadata": {},
     "output_type": "execute_result"
    }
   ],
   "source": [
    "rf_regressor.predict(x_test.head(1))"
   ]
  },
  {
   "cell_type": "code",
   "execution_count": 38,
   "metadata": {},
   "outputs": [
    {
     "ename": "IndexError",
     "evalue": "list index out of range",
     "output_type": "error",
     "traceback": [
      "\u001b[0;31m---------------------------------------------------------------------------\u001b[0m",
      "\u001b[0;31mIndexError\u001b[0m                                Traceback (most recent call last)",
      "\u001b[1;32m/Users/ericjohansson/Documents/portfolio_project/house_price_predictor/files_for_training_model/housing_prices.ipynb Cell 29\u001b[0m in \u001b[0;36m<cell line: 9>\u001b[0;34m()\u001b[0m\n\u001b[1;32m      <a href='vscode-notebook-cell:/Users/ericjohansson/Documents/portfolio_project/house_price_predictor/files_for_training_model/housing_prices.ipynb#X36sZmlsZQ%3D%3D?line=6'>7</a>\u001b[0m size_and_area \u001b[39m=\u001b[39m select\u001b[39m.\u001b[39mfindAll(\u001b[39m'\u001b[39m\u001b[39mh4\u001b[39m\u001b[39m'\u001b[39m)\n\u001b[1;32m      <a href='vscode-notebook-cell:/Users/ericjohansson/Documents/portfolio_project/house_price_predictor/files_for_training_model/housing_prices.ipynb#X36sZmlsZQ%3D%3D?line=7'>8</a>\u001b[0m size \u001b[39m=\u001b[39m size_and_area[\u001b[39m0\u001b[39m]\u001b[39m.\u001b[39mtext\n\u001b[0;32m----> <a href='vscode-notebook-cell:/Users/ericjohansson/Documents/portfolio_project/house_price_predictor/files_for_training_model/housing_prices.ipynb#X36sZmlsZQ%3D%3D?line=8'>9</a>\u001b[0m area \u001b[39m=\u001b[39m size_and_area[\u001b[39m1\u001b[39;49m]\u001b[39m.\u001b[39mtext\n\u001b[1;32m     <a href='vscode-notebook-cell:/Users/ericjohansson/Documents/portfolio_project/house_price_predictor/files_for_training_model/housing_prices.ipynb#X36sZmlsZQ%3D%3D?line=10'>11</a>\u001b[0m \u001b[39m# split up size into size and #rooms\u001b[39;00m\n\u001b[1;32m     <a href='vscode-notebook-cell:/Users/ericjohansson/Documents/portfolio_project/house_price_predictor/files_for_training_model/housing_prices.ipynb#X36sZmlsZQ%3D%3D?line=11'>12</a>\u001b[0m size_and_rooms \u001b[39m=\u001b[39m size\u001b[39m.\u001b[39mreplace(\u001b[39m'\u001b[39m\u001b[39m½\u001b[39m\u001b[39m'\u001b[39m, \u001b[39m'\u001b[39m\u001b[39m.5\u001b[39m\u001b[39m'\u001b[39m)\u001b[39m.\u001b[39msplit(\u001b[39m'\u001b[39m\u001b[39m,\u001b[39m\u001b[39m'\u001b[39m)\n",
      "\u001b[0;31mIndexError\u001b[0m: list index out of range"
     ]
    }
   ],
   "source": [
    "html_page = requests.get('https://www.booli.se/annons/4744318')\n",
    "soup = BeautifulSoup(html_page.text, 'html.parser')\n",
    "select = soup.find('div', class_=\"_2IyrD _36W0F _16dH_\")\n",
    "\n",
    "name = select.find('h1').text\n",
    "price = select.find('h2').text\n",
    "size_and_area = select.findAll('h4')\n",
    "size = size_and_area[0].text\n",
    "area = size_and_area[1].text\n",
    "\n",
    "# split up size into size and #rooms\n",
    "size_and_rooms = size.replace('½', '.5').split(',')\n",
    "if len(size_and_rooms) > 1:\n",
    "    size = float(size_and_rooms[0].split(' ')[0])\n",
    "    rooms = float(size_and_rooms[1].split('rum')[0])\n",
    "else:\n",
    "    size = int(size_and_rooms[0].split(' ')[0])\n",
    "    rooms = 'N/A'\n",
    "\n",
    "# split up area into area and house type\n",
    "area_and_house_type = area.split(',')\n",
    "area = area_and_house_type[1]\n",
    "\n",
    "# load local json file\n",
    "with open('average_price_in_area.json') as f:\n",
    "    average_price_in_area = json.load(f)\n",
    "\n",
    "\n",
    "df = pd.DataFrame(columns=['size', 'rooms','area'])\n",
    "df.loc[0] = [size, rooms, area]\n",
    "df\n",
    "# apply lambda function to df to get average price per m2 for each area\n",
    "df['area_price_per_m2'] = df.apply(lambda row: average_price_in_area[row['area']][0], axis=1)"
   ]
  },
  {
   "cell_type": "code",
   "execution_count": 36,
   "metadata": {},
   "outputs": [
    {
     "data": {
      "text/plain": [
       "105185.0"
      ]
     },
     "execution_count": 36,
     "metadata": {},
     "output_type": "execute_result"
    }
   ],
   "source": [
    "df['area_price_per_m2'][0]"
   ]
  },
  {
   "cell_type": "code",
   "execution_count": 20,
   "metadata": {},
   "outputs": [],
   "source": [
    "pickle.dump(rf_regressor, open('rf_regressor.pkl', 'wb'))\n"
   ]
  },
  {
   "cell_type": "code",
   "execution_count": 19,
   "metadata": {},
   "outputs": [
    {
     "data": {
      "text/plain": [
       "pandas.core.frame.DataFrame"
      ]
     },
     "execution_count": 19,
     "metadata": {},
     "output_type": "execute_result"
    }
   ],
   "source": [
    "type(x_test.head(1))"
   ]
  },
  {
   "cell_type": "code",
   "execution_count": 37,
   "metadata": {},
   "outputs": [
    {
     "name": "stdout",
     "output_type": "stream",
     "text": [
      "10,000,000\n"
     ]
    }
   ],
   "source": [
    "num = 10000000\n",
    "print(f\"{num:,}\")"
   ]
  },
  {
   "cell_type": "code",
   "execution_count": null,
   "metadata": {},
   "outputs": [],
   "source": []
  }
 ],
 "metadata": {
  "kernelspec": {
   "display_name": "Python 3.8.13",
   "language": "python",
   "name": "python3"
  },
  "language_info": {
   "codemirror_mode": {
    "name": "ipython",
    "version": 3
   },
   "file_extension": ".py",
   "mimetype": "text/x-python",
   "name": "python",
   "nbconvert_exporter": "python",
   "pygments_lexer": "ipython3",
   "version": "3.8.13"
  },
  "orig_nbformat": 4,
  "vscode": {
   "interpreter": {
    "hash": "f828781220b021d9830e0a4e92cee8ee3446c374f72433392c3b0ac39ab736dc"
   }
  }
 },
 "nbformat": 4,
 "nbformat_minor": 2
}
